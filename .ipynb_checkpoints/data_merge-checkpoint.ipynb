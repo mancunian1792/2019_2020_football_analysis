{
 "cells": [
  {
   "cell_type": "code",
   "execution_count": 18,
   "metadata": {},
   "outputs": [],
   "source": [
    "import pandas as pd\n",
    "from functools import reduce"
   ]
  },
  {
   "cell_type": "code",
   "execution_count": 17,
   "metadata": {},
   "outputs": [],
   "source": [
    "def clean_columns(df):\n",
    "    df.columns = [col.replace(\"header_\", \"\") if \"header_\" in col else col for col in df.columns ]\n",
    "    if \"matches\" in list(df.columns):\n",
    "        del df[\"matches\"]\n",
    "    return df"
   ]
  },
  {
   "cell_type": "code",
   "execution_count": 15,
   "metadata": {},
   "outputs": [],
   "source": [
    "big5_std = clean_columns(pd.read_csv(\"./data/big5_standard_stats.csv\"))\n",
    "big5_def = clean_columns(pd.read_csv(\"./data/big5_defense_stats.csv\"))\n",
    "big5_att = clean_columns(pd.read_csv(\"./data/big5_gca_stats.csv\"))\n",
    "big5_misc = clean_columns(pd.read_csv(\"./data/big5_misc_stats.csv\"))\n",
    "big5_pass = clean_columns(pd.read_csv(\"./data/big5_passing_stats.csv\"))\n",
    "big5_play = clean_columns(pd.read_csv(\"./data/big5_playing_time.csv\"))\n",
    "big5_poss = clean_columns(pd.read_csv(\"./data/big5_possesion_stats.csv\"))"
   ]
  },
  {
   "cell_type": "code",
   "execution_count": 19,
   "metadata": {},
   "outputs": [],
   "source": [
    "stats_df = [big5_std, big5_def, big5_att, big5_misc, big5_pass, big5_play, big5_poss]"
   ]
  },
  {
   "cell_type": "code",
   "execution_count": 20,
   "metadata": {},
   "outputs": [
    {
     "data": {
      "text/plain": [
       "Index(['player', 'nationality', 'position', 'squad', 'comp_level', 'age',\n",
       "       'birth_year', 'minutes_90s', 'sca_sca', 'sca_sca_per90',\n",
       "       'sca_types_sca_passes_live', 'sca_types_sca_passes_dead',\n",
       "       'sca_types_sca_dribbles', 'sca_types_sca_shots', 'sca_types_sca_fouled',\n",
       "       'gca_gca', 'gca_gca_per90', 'gca_types_gca_passes_live',\n",
       "       'gca_types_gca_passes_dead', 'gca_types_gca_dribbles',\n",
       "       'gca_types_gca_shots', 'gca_types_gca_fouled', 'gca_types_gca_og_for'],\n",
       "      dtype='object')"
      ]
     },
     "execution_count": 20,
     "metadata": {},
     "output_type": "execute_result"
    }
   ],
   "source": [
    "big5_att.columns"
   ]
  },
  {
   "cell_type": "code",
   "execution_count": 34,
   "metadata": {},
   "outputs": [],
   "source": [
    "df_merged = reduce(lambda  left,right: pd.merge(left,right,on=['player', 'nationality', 'position', 'squad', 'comp_level', 'age', 'birth_year'],\n",
    "                                            how='inner'), stats_df).fillna('void')"
   ]
  },
  {
   "cell_type": "code",
   "execution_count": 48,
   "metadata": {},
   "outputs": [
    {
     "data": {
      "text/plain": [
       "(2712, 152)"
      ]
     },
     "execution_count": 48,
     "metadata": {},
     "output_type": "execute_result"
    }
   ],
   "source": [
    "df_merged.shape"
   ]
  },
  {
   "cell_type": "code",
   "execution_count": 43,
   "metadata": {},
   "outputs": [],
   "source": [
    "drop_cols = list(set([col for col in df_merged.columns if (col.endswith(\"_y\"))]))"
   ]
  },
  {
   "cell_type": "code",
   "execution_count": 44,
   "metadata": {},
   "outputs": [],
   "source": [
    "rename_cols = list(set([col for col in df_merged.columns if (col.endswith(\"_x\"))]))"
   ]
  },
  {
   "cell_type": "code",
   "execution_count": 56,
   "metadata": {},
   "outputs": [],
   "source": [
    "def modifyCols(df, drop_cols, rename_cols):\n",
    "    df = df.drop(drop_cols, axis=1)\n",
    "    rename = [col.split(\"_x\")[0] for col in rename_cols]\n",
    "    rename = dict(zip(rename_cols, rename))\n",
    "    df = df.rename(columns = rename)\n",
    "    return df"
   ]
  },
  {
   "cell_type": "code",
   "execution_count": 57,
   "metadata": {},
   "outputs": [],
   "source": [
    "df_modify = modifyCols(df_merged, drop_cols, rename_cols)"
   ]
  },
  {
   "cell_type": "code",
   "execution_count": 58,
   "metadata": {},
   "outputs": [
    {
     "data": {
      "text/plain": [
       "(2712, 145)"
      ]
     },
     "execution_count": 58,
     "metadata": {},
     "output_type": "execute_result"
    }
   ],
   "source": [
    "df_modify.shape"
   ]
  },
  {
   "cell_type": "code",
   "execution_count": 60,
   "metadata": {},
   "outputs": [],
   "source": [
    "df_modify.to_csv(\"./data/big5_full_stats.csv\", index=False)"
   ]
  }
 ],
 "metadata": {
  "kernelspec": {
   "display_name": "Python 3",
   "language": "python",
   "name": "python3"
  },
  "language_info": {
   "codemirror_mode": {
    "name": "ipython",
    "version": 3
   },
   "file_extension": ".py",
   "mimetype": "text/x-python",
   "name": "python",
   "nbconvert_exporter": "python",
   "pygments_lexer": "ipython3",
   "version": "3.6.10"
  }
 },
 "nbformat": 4,
 "nbformat_minor": 2
}
